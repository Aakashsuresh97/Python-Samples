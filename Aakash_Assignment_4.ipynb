{
 "cells": [
  {
   "cell_type": "markdown",
   "metadata": {},
   "source": [
    "## Lab Exercise_4 - PANDAS - DATA ANALYSIS"
   ]
  },
  {
   "cell_type": "markdown",
   "metadata": {},
   "source": [
    "### About the dataset (Customer Tip Data)\n",
    "\n",
    "The dataset contains information about the 244 orders served at a restaurant in the United States. Each observation includes the factors related to the order like total bill, time, the total number of people in a group, gender of the person paying for the order and so on.\n",
    "\n",
    "Attribute Information:\n",
    "\n",
    "**total_bill:** Total bill (cost of the meal), including tax, in US dollars\n",
    "\n",
    "**tip:** Tip in US dollars\n",
    "\n",
    "**sex:** Sex of person paying for the meal\n",
    "\n",
    "**smoker:** There is a smoker in a group or not\n",
    "\n",
    "**day:** Day on which the order is served\n",
    "\n",
    "**time:** Time of the order\n",
    "\n",
    "**size:** Size of the group"
   ]
  },
  {
   "cell_type": "markdown",
   "metadata": {},
   "source": [
    "**Import the required libraries**"
   ]
  },
  {
   "cell_type": "code",
   "execution_count": 1,
   "metadata": {},
   "outputs": [],
   "source": [
    "# type your code here\n",
    "import pandas as pd\n",
    "import numpy as np\n",
    "from matplotlib import pyplot as plt\n"
   ]
  },
  {
   "cell_type": "markdown",
   "metadata": {},
   "source": [
    "#### Load the customer tip dataset and print the first five observations"
   ]
  },
  {
   "cell_type": "code",
   "execution_count": 2,
   "metadata": {},
   "outputs": [
    {
     "data": {
      "text/html": [
       "<div>\n",
       "<style scoped>\n",
       "    .dataframe tbody tr th:only-of-type {\n",
       "        vertical-align: middle;\n",
       "    }\n",
       "\n",
       "    .dataframe tbody tr th {\n",
       "        vertical-align: top;\n",
       "    }\n",
       "\n",
       "    .dataframe thead th {\n",
       "        text-align: right;\n",
       "    }\n",
       "</style>\n",
       "<table border=\"1\" class=\"dataframe\">\n",
       "  <thead>\n",
       "    <tr style=\"text-align: right;\">\n",
       "      <th></th>\n",
       "      <th>total_bill</th>\n",
       "      <th>tip</th>\n",
       "      <th>sex</th>\n",
       "      <th>smoker</th>\n",
       "      <th>day</th>\n",
       "      <th>time</th>\n",
       "      <th>size</th>\n",
       "    </tr>\n",
       "  </thead>\n",
       "  <tbody>\n",
       "    <tr>\n",
       "      <th>0</th>\n",
       "      <td>16.99</td>\n",
       "      <td>1.01</td>\n",
       "      <td>Female</td>\n",
       "      <td>No</td>\n",
       "      <td>Sun</td>\n",
       "      <td>Dinner</td>\n",
       "      <td>2</td>\n",
       "    </tr>\n",
       "    <tr>\n",
       "      <th>1</th>\n",
       "      <td>10.34</td>\n",
       "      <td>1.66</td>\n",
       "      <td>Male</td>\n",
       "      <td>No</td>\n",
       "      <td>Sun</td>\n",
       "      <td>Dinner</td>\n",
       "      <td>3</td>\n",
       "    </tr>\n",
       "    <tr>\n",
       "      <th>2</th>\n",
       "      <td>21.01</td>\n",
       "      <td>3.50</td>\n",
       "      <td>Male</td>\n",
       "      <td>No</td>\n",
       "      <td>Sun</td>\n",
       "      <td>Dinner</td>\n",
       "      <td>3</td>\n",
       "    </tr>\n",
       "    <tr>\n",
       "      <th>3</th>\n",
       "      <td>23.68</td>\n",
       "      <td>3.31</td>\n",
       "      <td>Male</td>\n",
       "      <td>No</td>\n",
       "      <td>Sun</td>\n",
       "      <td>Dinner</td>\n",
       "      <td>2</td>\n",
       "    </tr>\n",
       "    <tr>\n",
       "      <th>4</th>\n",
       "      <td>24.59</td>\n",
       "      <td>3.61</td>\n",
       "      <td>Female</td>\n",
       "      <td>No</td>\n",
       "      <td>Sun</td>\n",
       "      <td>Dinner</td>\n",
       "      <td>4</td>\n",
       "    </tr>\n",
       "  </tbody>\n",
       "</table>\n",
       "</div>"
      ],
      "text/plain": [
       "   total_bill   tip     sex smoker  day    time  size\n",
       "0       16.99  1.01  Female     No  Sun  Dinner     2\n",
       "1       10.34  1.66    Male     No  Sun  Dinner     3\n",
       "2       21.01  3.50    Male     No  Sun  Dinner     3\n",
       "3       23.68  3.31    Male     No  Sun  Dinner     2\n",
       "4       24.59  3.61  Female     No  Sun  Dinner     4"
      ]
     },
     "execution_count": 2,
     "metadata": {},
     "output_type": "execute_result"
    }
   ],
   "source": [
    "# type your code here\n",
    "data_set = pd.read_csv('customer_tip.csv')\n",
    "data_set.head(5)"
   ]
  },
  {
   "cell_type": "markdown",
   "metadata": {},
   "source": [
    "### Let's begin with some hands-on practice exercises"
   ]
  },
  {
   "cell_type": "markdown",
   "metadata": {
    "collapsed": true
   },
   "source": [
    "### 1. Print the column names of categorical and numerical variables in the data\n"
   ]
  },
  {
   "cell_type": "code",
   "execution_count": 4,
   "metadata": {},
   "outputs": [
    {
     "name": "stdout",
     "output_type": "stream",
     "text": [
      "Categorical Data\n",
      "sex\n",
      "smoker\n",
      "day\n",
      "time\n",
      "\n",
      "Numerical Data\n",
      "total_bill\n",
      "tip\n",
      "size\n"
     ]
    }
   ],
   "source": [
    "# type your code here\n",
    "print(\"Categorical Data\")\n",
    "print(data_set.columns[2])\n",
    "print(data_set.columns[3])\n",
    "print(data_set.columns[4])\n",
    "print(data_set.columns[5])\n",
    "print(\"\")\n",
    "print(\"Numerical Data\")\n",
    "print(data_set.columns[0])\n",
    "print(data_set.columns[1])\n",
    "print(data_set.columns[6])"
   ]
  },
  {
   "cell_type": "markdown",
   "metadata": {},
   "source": [
    "### 2. Print the average value of Total bill amount and tips"
   ]
  },
  {
   "cell_type": "code",
   "execution_count": 5,
   "metadata": {},
   "outputs": [
    {
     "name": "stdout",
     "output_type": "stream",
     "text": [
      "Average of Total Bill : 19.785942622950824\n",
      "Average of Tips : 2.9982786885245902\n"
     ]
    }
   ],
   "source": [
    "# type your code\n",
    "print(\"Average of Total Bill :\",data_set.iloc[:,0].mean())\n",
    "print(\"Average of Tips :\",data_set.iloc[:,1].mean())"
   ]
  },
  {
   "cell_type": "markdown",
   "metadata": {
    "collapsed": true
   },
   "source": [
    "### 3. Compute the average bill amount for each day\n"
   ]
  },
  {
   "cell_type": "code",
   "execution_count": 6,
   "metadata": {},
   "outputs": [
    {
     "name": "stdout",
     "output_type": "stream",
     "text": [
      "Sun   21.410000000000004\n",
      "Sat   20.441379310344825\n",
      "Thur   17.682741935483865\n",
      "Fri   17.151578947368417\n"
     ]
    }
   ],
   "source": [
    "# type your code here\n",
    "unique_day = data_set['day'].unique()\n",
    "for i in unique_day:\n",
    "    print(i,\" \",data_set[data_set['day']==i]['total_bill'].mean())"
   ]
  },
  {
   "cell_type": "markdown",
   "metadata": {
    "collapsed": true
   },
   "source": [
    "### 4. Which gender is more generous in giving the tip?</b>\n"
   ]
  },
  {
   "cell_type": "code",
   "execution_count": 10,
   "metadata": {},
   "outputs": [
    {
     "name": "stdout",
     "output_type": "stream",
     "text": [
      "Female\n",
      "246.50999999999996\n",
      "Male\n",
      "485.07\n"
     ]
    }
   ],
   "source": [
    "# type your code here\n",
    "unique_sex = data_set['sex'].unique()\n",
    "for i in unique_sex:\n",
    "    print(i)\n",
    "    print(data_set[data_set['sex']==i]['tip'].sum())\n",
    "    "
   ]
  },
  {
   "cell_type": "markdown",
   "metadata": {
    "collapsed": true
   },
   "source": [
    "### 5. According to the data, were there more customers for dinner or lunch? </b>\n"
   ]
  },
  {
   "cell_type": "code",
   "execution_count": 20,
   "metadata": {},
   "outputs": [
    {
     "name": "stdout",
     "output_type": "stream",
     "text": [
      "Dinner\n",
      "176\n",
      "Lunch\n",
      "68\n"
     ]
    }
   ],
   "source": [
    "# type your code here\n",
    "more_cust = data_set['time'].unique()\n",
    "for i in more_cust:\n",
    "    print(i)\n",
    "    print(data_set[data_set['time']==i]['time'].count())\n"
   ]
  },
  {
   "cell_type": "markdown",
   "metadata": {
    "collapsed": true
   },
   "source": [
    "### 6. comment on the variable 'tip' based on its measure of dispersion "
   ]
  },
  {
   "cell_type": "code",
   "execution_count": 77,
   "metadata": {},
   "outputs": [
    {
     "data": {
      "text/plain": [
       "2.9"
      ]
     },
     "execution_count": 77,
     "metadata": {},
     "output_type": "execute_result"
    }
   ],
   "source": [
    "# type your code here\n",
    "data_set['tip'].median()"
   ]
  },
  {
   "cell_type": "code",
   "execution_count": null,
   "metadata": {},
   "outputs": [],
   "source": [
    "#50% of tips are above 2.9 and 50% tips below 2.9"
   ]
  },
  {
   "cell_type": "markdown",
   "metadata": {
    "collapsed": true
   },
   "source": [
    "### 7. Plot the distribution of bill amount and tip and comment about its normality"
   ]
  },
  {
   "cell_type": "code",
   "execution_count": 116,
   "metadata": {},
   "outputs": [
    {
     "name": "stdout",
     "output_type": "stream",
     "text": [
      "0.25    2.0000\n",
      "0.50    2.9000\n",
      "0.75    3.5625\n",
      "Name: tip, dtype: float64\n",
      "Bill\n",
      "0.25    13.3475\n",
      "0.50    17.7950\n",
      "0.75    24.1275\n",
      "Name: total_bill, dtype: float64\n"
     ]
    }
   ],
   "source": [
    "# type your code here\n",
    "from scipy import stats\n",
    "print(data_set['tip'].quantile([0.25,0.5,0.75]))\n",
    "print(\"Bill\")\n",
    "print(data_set['total_bill'].quantile([0.25,0.5,0.75]))"
   ]
  },
  {
   "cell_type": "code",
   "execution_count": null,
   "metadata": {},
   "outputs": [],
   "source": [
    "#there is steady increase in the value of tip and bill amount and there is not outlier effect found"
   ]
  },
  {
   "cell_type": "markdown",
   "metadata": {
    "collapsed": true
   },
   "source": [
    "### 8. Is the variable 'total_bill' skewed? If yes, identify the type of skewness. Support your answer with a plot\n"
   ]
  },
  {
   "cell_type": "code",
   "execution_count": 107,
   "metadata": {},
   "outputs": [
    {
     "name": "stdout",
     "output_type": "stream",
     "text": [
      "19.785942622950824\n",
      "17.795\n",
      "18.733214285714286\n"
     ]
    }
   ],
   "source": [
    "# type your code here\n",
    "print(data_set['total_bill'].mean())\n",
    "print(data_set['total_bill'].median())\n",
    "print(stats.trim_mean(data_set['total_bill'],proportiontocut=0.1))"
   ]
  },
  {
   "cell_type": "code",
   "execution_count": null,
   "metadata": {},
   "outputs": [],
   "source": [
    "#Total Bill is not skewed because the is not much difference between the mean and trim mean"
   ]
  },
  {
   "cell_type": "markdown",
   "metadata": {},
   "source": [
    "### 9. Analyze the realation between bill_amount and tips"
   ]
  },
  {
   "cell_type": "code",
   "execution_count": 132,
   "metadata": {},
   "outputs": [
    {
     "name": "stdout",
     "output_type": "stream",
     "text": [
      "total_bill    4827.77\n",
      "dtype: float64\n",
      "tip    731.58\n",
      "dtype: float64\n"
     ]
    },
    {
     "data": {
      "text/plain": [
       "15.153580224410026"
      ]
     },
     "execution_count": 132,
     "metadata": {},
     "output_type": "execute_result"
    }
   ],
   "source": [
    "total_bill = data_set.agg({'total_bill':'sum'})\n",
    "total_tip = data_set.agg({'tip':'sum'})\n",
    "print(total_bill)\n",
    "print(total_tip)\n",
    "per_tip = (float(total_tip)*100)/float(total_bill)\n",
    "per_tip"
   ]
  },
  {
   "cell_type": "code",
   "execution_count": null,
   "metadata": {},
   "outputs": [],
   "source": [
    "#15% of bill amount is tip"
   ]
  },
  {
   "cell_type": "markdown",
   "metadata": {},
   "source": [
    "### 10. Find the covaraiance and correlation between bill_amount and tips. Infer the results"
   ]
  },
  {
   "cell_type": "code",
   "execution_count": 14,
   "metadata": {},
   "outputs": [
    {
     "name": "stdout",
     "output_type": "stream",
     "text": [
      "Covariance\n",
      "[[79.25293861  8.32350163]\n",
      " [ 8.32350163  1.91445464]]\n",
      "\n",
      "Correlation\n",
      "[[1.         0.67573411]\n",
      " [0.67573411 1.        ]]\n"
     ]
    }
   ],
   "source": [
    "bill_amt = data_set['total_bill']\n",
    "tip_amt = data_set['tip']\n",
    "covariance = np.cov(np.stack((bill_amt,tip_amt)))\n",
    "print(\"Covariance\")\n",
    "print(covariance)\n",
    "correlation = np.corrcoef(bill_amt, tip_amt)\n",
    "print(\"\")\n",
    "print(\"Correlation\")\n",
    "print(correlation)"
   ]
  },
  {
   "cell_type": "code",
   "execution_count": null,
   "metadata": {},
   "outputs": [],
   "source": [
    "#Bill amount and tips have positive correlation"
   ]
  },
  {
   "cell_type": "markdown",
   "metadata": {},
   "source": [
    "### 11. Analyze the realtion between bill_amount, tips and sex"
   ]
  },
  {
   "cell_type": "code",
   "execution_count": 115,
   "metadata": {},
   "outputs": [
    {
     "name": "stdout",
     "output_type": "stream",
     "text": [
      "        total_bill     tip\n",
      "sex                       \n",
      "Female     1570.95  246.51\n",
      "Male       3256.82  485.07\n"
     ]
    }
   ],
   "source": [
    "print(data_set.groupby('sex').agg({'total_bill':'sum','tip':'sum'}))"
   ]
  },
  {
   "cell_type": "code",
   "execution_count": null,
   "metadata": {},
   "outputs": [],
   "source": [
    "#Male customers have lunch/Dinner in the restaurent more"
   ]
  },
  {
   "cell_type": "markdown",
   "metadata": {},
   "source": [
    "### 12. Find the average number of customer for dinner and Lunch for each day "
   ]
  },
  {
   "cell_type": "code",
   "execution_count": 47,
   "metadata": {},
   "outputs": [
    {
     "data": {
      "text/plain": [
       "day   time  \n",
       "Fri   Dinner    2.0\n",
       "      Lunch     2.0\n",
       "Sat   Dinner    3.0\n",
       "Sun   Dinner    3.0\n",
       "Thur  Dinner    2.0\n",
       "      Lunch     2.0\n",
       "Name: size, dtype: float64"
      ]
     },
     "execution_count": 47,
     "metadata": {},
     "output_type": "execute_result"
    }
   ],
   "source": [
    "round(data_set.groupby(['day', 'time'])['size'].mean())"
   ]
  },
  {
   "cell_type": "markdown",
   "metadata": {},
   "source": [
    "### 13. Find the average bill-amount  for dinner and Lunch for each day"
   ]
  },
  {
   "cell_type": "code",
   "execution_count": 51,
   "metadata": {},
   "outputs": [
    {
     "data": {
      "text/plain": [
       "day   time  \n",
       "Fri   Dinner    19.663333\n",
       "      Lunch     12.845714\n",
       "Sat   Dinner    20.441379\n",
       "Sun   Dinner    21.410000\n",
       "Thur  Dinner    18.780000\n",
       "      Lunch     17.664754\n",
       "Name: total_bill, dtype: float64"
      ]
     },
     "execution_count": 51,
     "metadata": {},
     "output_type": "execute_result"
    }
   ],
   "source": [
    "data_set.groupby(['day','time'])['total_bill'].mean()"
   ]
  },
  {
   "cell_type": "markdown",
   "metadata": {},
   "source": [
    "### 14. Comment about the tips given by the smokers"
   ]
  },
  {
   "cell_type": "code",
   "execution_count": 69,
   "metadata": {},
   "outputs": [
    {
     "name": "stdout",
     "output_type": "stream",
     "text": [
      "No   451.77\n",
      "Yes   279.81\n"
     ]
    }
   ],
   "source": [
    "smoker_count = data_set['smoker'].unique()\n",
    "for i in smoker_count:\n",
    "    print(i,\" \",data_set[data_set['smoker']==i]['tip'].sum())\n",
    "    \n",
    "#Non-smokers tip more"
   ]
  },
  {
   "cell_type": "markdown",
   "metadata": {},
   "source": [
    "### 15.Create a Pivot table with sex and smokers with their average tip amount"
   ]
  },
  {
   "cell_type": "code",
   "execution_count": 7,
   "metadata": {},
   "outputs": [
    {
     "name": "stdout",
     "output_type": "stream",
     "text": [
      "                    tip\n",
      "sex    smoker          \n",
      "Female No      2.773519\n",
      "       Yes     2.931515\n",
      "Male   No      3.113402\n",
      "       Yes     3.051167\n",
      "smoker        No       Yes\n",
      "sex                       \n",
      "Female  2.773519  2.931515\n",
      "Male    3.113402  3.051167\n"
     ]
    }
   ],
   "source": [
    "print(data_set.groupby(['sex','smoker']).agg({'tip':'mean'}))\n",
    "print(data_set.pivot_table(index='sex',columns='smoker',values='tip',aggfunc='mean'))"
   ]
  },
  {
   "cell_type": "markdown",
   "metadata": {},
   "source": [
    "### 16. Compute the tips per person for each observation (tips/size)"
   ]
  },
  {
   "cell_type": "code",
   "execution_count": 74,
   "metadata": {},
   "outputs": [
    {
     "data": {
      "text/html": [
       "<div>\n",
       "<style scoped>\n",
       "    .dataframe tbody tr th:only-of-type {\n",
       "        vertical-align: middle;\n",
       "    }\n",
       "\n",
       "    .dataframe tbody tr th {\n",
       "        vertical-align: top;\n",
       "    }\n",
       "\n",
       "    .dataframe thead th {\n",
       "        text-align: right;\n",
       "    }\n",
       "</style>\n",
       "<table border=\"1\" class=\"dataframe\">\n",
       "  <thead>\n",
       "    <tr style=\"text-align: right;\">\n",
       "      <th></th>\n",
       "      <th>tip</th>\n",
       "    </tr>\n",
       "    <tr>\n",
       "      <th>size</th>\n",
       "      <th></th>\n",
       "    </tr>\n",
       "  </thead>\n",
       "  <tbody>\n",
       "    <tr>\n",
       "      <th>1</th>\n",
       "      <td>5.75</td>\n",
       "    </tr>\n",
       "    <tr>\n",
       "      <th>2</th>\n",
       "      <td>402.84</td>\n",
       "    </tr>\n",
       "    <tr>\n",
       "      <th>3</th>\n",
       "      <td>128.94</td>\n",
       "    </tr>\n",
       "    <tr>\n",
       "      <th>4</th>\n",
       "      <td>153.01</td>\n",
       "    </tr>\n",
       "    <tr>\n",
       "      <th>5</th>\n",
       "      <td>20.14</td>\n",
       "    </tr>\n",
       "    <tr>\n",
       "      <th>6</th>\n",
       "      <td>20.90</td>\n",
       "    </tr>\n",
       "  </tbody>\n",
       "</table>\n",
       "</div>"
      ],
      "text/plain": [
       "         tip\n",
       "size        \n",
       "1       5.75\n",
       "2     402.84\n",
       "3     128.94\n",
       "4     153.01\n",
       "5      20.14\n",
       "6      20.90"
      ]
     },
     "execution_count": 74,
     "metadata": {},
     "output_type": "execute_result"
    }
   ],
   "source": [
    "data_set.groupby(['size']).agg({'tip':'sum'})"
   ]
  },
  {
   "cell_type": "code",
   "execution_count": null,
   "metadata": {},
   "outputs": [],
   "source": []
  }
 ],
 "metadata": {
  "kernelspec": {
   "display_name": "Python 3",
   "language": "python",
   "name": "python3"
  },
  "language_info": {
   "codemirror_mode": {
    "name": "ipython",
    "version": 3
   },
   "file_extension": ".py",
   "mimetype": "text/x-python",
   "name": "python",
   "nbconvert_exporter": "python",
   "pygments_lexer": "ipython3",
   "version": "3.8.8"
  }
 },
 "nbformat": 4,
 "nbformat_minor": 2
}
