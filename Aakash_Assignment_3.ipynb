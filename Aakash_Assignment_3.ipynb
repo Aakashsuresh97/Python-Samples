{
 "cells": [
  {
   "cell_type": "markdown",
   "metadata": {},
   "source": [
    "# Numpy Exercise  <img src = \"numpy1.png\">\n",
    "###### Authored by T.K.Senthil Kumar"
   ]
  },
  {
   "cell_type": "markdown",
   "metadata": {},
   "source": [
    "#### 1. Create a numpy array with the number of elements equals your age. The value of array elements is a random number between 10 to your age "
   ]
  },
  {
   "cell_type": "code",
   "execution_count": 3,
   "metadata": {},
   "outputs": [
    {
     "name": "stdout",
     "output_type": "stream",
     "text": [
      "[22 12 15 19 17 11 11 16 21 10 16 14 17 12 22 21 17 11 13 11 11 20 20 20]\n",
      "24\n"
     ]
    }
   ],
   "source": [
    "#Solution\n",
    "import numpy as np\n",
    "numpy_array = np.random.randint(10,24,24)\n",
    "print(numpy_array)\n",
    "print(len(numpy_array))\n"
   ]
  },
  {
   "cell_type": "markdown",
   "metadata": {},
   "source": [
    "#### 2. Create a numpy array between 1 to 50 with the span(space) of 2 and print the length of the array"
   ]
  },
  {
   "cell_type": "code",
   "execution_count": 4,
   "metadata": {},
   "outputs": [
    {
     "name": "stdout",
     "output_type": "stream",
     "text": [
      "[ 1  4  7 10 13 16 19 22 25 28 31 34 37 40 43 46 49]\n",
      "17\n"
     ]
    }
   ],
   "source": [
    "# Solution\n",
    "import numpy as np\n",
    "numpy_array_two = np.arange(1,50,3)\n",
    "print(numpy_array_two)\n",
    "print(len(numpy_array_two))\n",
    "\n"
   ]
  },
  {
   "cell_type": "markdown",
   "metadata": {},
   "source": [
    "#### 3. Create an equally spaced numpy array with 27 elements between 4 and 7 "
   ]
  },
  {
   "cell_type": "code",
   "execution_count": 5,
   "metadata": {},
   "outputs": [
    {
     "name": "stdout",
     "output_type": "stream",
     "text": [
      "[4.         4.11538462 4.23076923 4.34615385 4.46153846 4.57692308\n",
      " 4.69230769 4.80769231 4.92307692 5.03846154 5.15384615 5.26923077\n",
      " 5.38461538 5.5        5.61538462 5.73076923 5.84615385 5.96153846\n",
      " 6.07692308 6.19230769 6.30769231 6.42307692 6.53846154 6.65384615\n",
      " 6.76923077 6.88461538 7.        ]\n",
      "27\n"
     ]
    }
   ],
   "source": [
    "# Solution\n",
    "import numpy as nnp\n",
    "numpy_array_three = nnp.linspace(4,7,27)\n",
    "print(numpy_array_three)\n",
    "print(len(numpy_array_three))\n",
    "\n"
   ]
  },
  {
   "cell_type": "markdown",
   "metadata": {},
   "source": [
    "#### 4. Create a matrix of size (5 x 4) with random numbers and round off the each elements by only 2 fractional points."
   ]
  },
  {
   "cell_type": "code",
   "execution_count": 6,
   "metadata": {},
   "outputs": [
    {
     "name": "stdout",
     "output_type": "stream",
     "text": [
      "[[0.11522183 0.31002849 0.02836417 0.59625034]\n",
      " [0.72881042 0.38300174 0.80859981 0.63067442]\n",
      " [0.73455354 0.02850896 0.15915696 0.71597957]\n",
      " [0.12441181 0.88951102 0.02047224 0.59384693]\n",
      " [0.66099917 0.75919434 0.42533062 0.65413215]]\n",
      "[[0.12 0.31 0.03 0.6 ]\n",
      " [0.73 0.38 0.81 0.63]\n",
      " [0.73 0.03 0.16 0.72]\n",
      " [0.12 0.89 0.02 0.59]\n",
      " [0.66 0.76 0.43 0.65]]\n"
     ]
    }
   ],
   "source": [
    "# Solution\n",
    "import numpy as np\n",
    "float_matrix_one = np.random.rand(5,4)\n",
    "print(float_matrix_one)\n",
    "float_matrix_two = np.round(float_matrix_one,2)\n",
    "print(float_matrix_two)"
   ]
  },
  {
   "cell_type": "markdown",
   "metadata": {},
   "source": [
    "#### 5. Create a matrix of size (5x5) with random integers between 5 to 15"
   ]
  },
  {
   "cell_type": "code",
   "execution_count": 7,
   "metadata": {},
   "outputs": [
    {
     "data": {
      "text/plain": [
       "array([[15, 14,  8, 14, 15],\n",
       "       [15,  6,  5,  6, 14],\n",
       "       [11,  5,  5,  8,  9],\n",
       "       [15, 10, 11,  7, 10],\n",
       "       [15, 13,  7,  7, 14]])"
      ]
     },
     "execution_count": 7,
     "metadata": {},
     "output_type": "execute_result"
    }
   ],
   "source": [
    "# Solution\n",
    "np.random.randint(5,16,(5,5))\n",
    "\n",
    "\n"
   ]
  },
  {
   "cell_type": "markdown",
   "metadata": {},
   "source": [
    "#### 6. Create the one dimensional array of zeros of random length below 20 with the data type int32"
   ]
  },
  {
   "cell_type": "code",
   "execution_count": 8,
   "metadata": {},
   "outputs": [
    {
     "name": "stdout",
     "output_type": "stream",
     "text": [
      "[0 0 0 0 0 0 0 0 0 0 0 0 0 0 0 0 0 0 0 0 0 0 0 0 0 0 0 0 0 0]\n",
      "int32\n"
     ]
    }
   ],
   "source": [
    "# Solution\n",
    "zero_array = np.zeros(30).astype(int)\n",
    "print(zero_array)\n",
    "print(zero_array.dtype)\n",
    "\n",
    "\n",
    "\n"
   ]
  },
  {
   "cell_type": "markdown",
   "metadata": {},
   "source": [
    "#### 7. Create a two dimensional array of ones of random row and column lengths with the data type of float32 "
   ]
  },
  {
   "cell_type": "code",
   "execution_count": 9,
   "metadata": {},
   "outputs": [
    {
     "name": "stdout",
     "output_type": "stream",
     "text": [
      "[[1. 1. 1. 1. 1.]\n",
      " [1. 1. 1. 1. 1.]\n",
      " [1. 1. 1. 1. 1.]\n",
      " [1. 1. 1. 1. 1.]]\n",
      "(4, 5)\n",
      "float32\n"
     ]
    }
   ],
   "source": [
    "# Solution\n",
    "one_array = np.ones((4,5))\n",
    "one_array_converted = np.float32(one_array)\n",
    "print(one_array_converted)\n",
    "print(one_array_converted.shape)\n",
    "print(one_array_converted.dtype)\n",
    "\n",
    "\n"
   ]
  },
  {
   "cell_type": "markdown",
   "metadata": {},
   "source": [
    "#### 8. Create a matrix exactly as same as shown below and print its shape, type and dtype\n",
    "<img src = \"np_mat1.png\">"
   ]
  },
  {
   "cell_type": "code",
   "execution_count": 12,
   "metadata": {},
   "outputs": [
    {
     "data": {
      "text/plain": [
       "array([[ 9, 25, 50, 34, 45],\n",
       "       [ 3, 34, 34, 65,  2],\n",
       "       [ 5,  7,  3, 76,  3],\n",
       "       [ 7,  8,  6, 54,  6],\n",
       "       [23, 12,  8,  5,  8]])"
      ]
     },
     "execution_count": 12,
     "metadata": {},
     "output_type": "execute_result"
    }
   ],
   "source": [
    "# Solution\n",
    "matrix_Array_one = np.array([[9,25,50,34,45],[3,34,34,65,2],[5,7,3,76,3],[7,8,6,54,6],[23,12,8,5,8]])\n",
    "matrix_Array_one\n",
    "\n",
    "\n"
   ]
  },
  {
   "cell_type": "markdown",
   "metadata": {},
   "source": [
    "#### 9. Access the center pixel of the matrix defined in the question no 8 ( Don't enter the row and column index explicitely)"
   ]
  },
  {
   "cell_type": "code",
   "execution_count": 13,
   "metadata": {},
   "outputs": [
    {
     "name": "stdout",
     "output_type": "stream",
     "text": [
      "[[3]]\n"
     ]
    }
   ],
   "source": [
    "# Solution\n",
    "print(matrix_Array_one[2:3,2:3])\n"
   ]
  },
  {
   "cell_type": "markdown",
   "metadata": {},
   "source": [
    "#### 10. Print the all the elements of 3rd row of the matrix"
   ]
  },
  {
   "cell_type": "code",
   "execution_count": 14,
   "metadata": {},
   "outputs": [
    {
     "name": "stdout",
     "output_type": "stream",
     "text": [
      "[ 5  7  3 76  3]\n"
     ]
    }
   ],
   "source": [
    "# Solution\n",
    "print(matrix_Array_one[2,])\n",
    "\n"
   ]
  },
  {
   "cell_type": "markdown",
   "metadata": {},
   "source": [
    "#### 11. Print the all the elements of 4th columns of the matrix"
   ]
  },
  {
   "cell_type": "code",
   "execution_count": 15,
   "metadata": {},
   "outputs": [
    {
     "name": "stdout",
     "output_type": "stream",
     "text": [
      "[34 65 76 54  5]\n"
     ]
    }
   ],
   "source": [
    "# Solution\n",
    "print(matrix_Array_one[:,3])\n",
    "\n"
   ]
  },
  {
   "cell_type": "markdown",
   "metadata": {},
   "source": [
    "#### 12. Print the 4 corner pixels of the matrix"
   ]
  },
  {
   "cell_type": "code",
   "execution_count": 16,
   "metadata": {},
   "outputs": [
    {
     "name": "stdout",
     "output_type": "stream",
     "text": [
      "First Corner :  9\n",
      "Second Corner :  45\n",
      "Third Corner :  23\n",
      "Fourth Corner :  8\n"
     ]
    }
   ],
   "source": [
    "# Solution\n",
    "print(\"First Corner : \",matrix_Array_one[0,0])\n",
    "print(\"Second Corner : \",matrix_Array_one[0,4])\n",
    "print(\"Third Corner : \",matrix_Array_one[4,0])\n",
    "print(\"Fourth Corner : \",matrix_Array_one[4,4])\n",
    "\n"
   ]
  },
  {
   "cell_type": "markdown",
   "metadata": {},
   "source": [
    "#### 13. Create three matrix m1,m2,m3 with the elements grouped in the figure below\n",
    "<img src = \"np_mat2.png\">"
   ]
  },
  {
   "cell_type": "code",
   "execution_count": 17,
   "metadata": {},
   "outputs": [
    {
     "name": "stdout",
     "output_type": "stream",
     "text": [
      "[[50 34]\n",
      " [34 65]]\n",
      "[[ 7  8]\n",
      " [23 12]]\n",
      "[[ 3 76  3]\n",
      " [ 6 54  6]\n",
      " [ 8  5  8]]\n"
     ]
    }
   ],
   "source": [
    "# Solution \n",
    "m1 = matrix_Array_one[0:2,2:4]\n",
    "print(m1)\n",
    "\n",
    "m2 = matrix_Array_one[3:5,0:2]\n",
    "print(m2)\n",
    "\n",
    "m3 = matrix_Array_one[2:5,2:5]\n",
    "print(m3)"
   ]
  },
  {
   "cell_type": "markdown",
   "metadata": {},
   "source": [
    "#### 14. Reshape all the three matrix segmented in the above task in to three  1-dimensional vector."
   ]
  },
  {
   "cell_type": "code",
   "execution_count": 18,
   "metadata": {},
   "outputs": [
    {
     "name": "stdout",
     "output_type": "stream",
     "text": [
      "[50 34 34 65]\n",
      "[ 7  8 23 12]\n",
      "[ 3 76  3  6 54  6  8  5  8]\n"
     ]
    }
   ],
   "source": [
    "# Solution\n",
    "m1_reshape = m1.reshape(4,)\n",
    "m2_reshape = m2.reshape(4,)\n",
    "m3_reshape = m3.reshape(9,)\n",
    "print(m1_reshape)\n",
    "print(m2_reshape)\n",
    "print(m3_reshape)\n",
    "\n"
   ]
  },
  {
   "cell_type": "markdown",
   "metadata": {},
   "source": [
    "#### 15. Concatenate the matrix m1 and m2 in both vertical and horizontal direction"
   ]
  },
  {
   "cell_type": "code",
   "execution_count": 19,
   "metadata": {},
   "outputs": [
    {
     "name": "stdout",
     "output_type": "stream",
     "text": [
      "[[50 34]\n",
      " [34 65]]\n",
      "[[ 7  8]\n",
      " [23 12]]\n",
      " \n",
      "horizontal\n",
      "[[50 34  7  8]\n",
      " [34 65 23 12]]\n",
      " \n",
      "vertical\n",
      "[[50 34]\n",
      " [34 65]\n",
      " [ 7  8]\n",
      " [23 12]]\n"
     ]
    }
   ],
   "source": [
    "# Solution\n",
    "print(m1)\n",
    "print(m2)\n",
    "vertical_matrix = np.concatenate((m1,m2),axis=1)\n",
    "print(\" \")\n",
    "print(\"horizontal\")\n",
    "print(vertical_matrix)\n",
    "horizontal_matrix = np.concatenate((m1,m2))\n",
    "print(\" \")\n",
    "print(\"vertical\")\n",
    "print(horizontal_matrix)\n",
    "\n"
   ]
  },
  {
   "cell_type": "markdown",
   "metadata": {},
   "source": [
    "#### 16. Add, Subtract, multiply, divide the matrixes m1 and m2"
   ]
  },
  {
   "cell_type": "code",
   "execution_count": 20,
   "metadata": {},
   "outputs": [
    {
     "name": "stdout",
     "output_type": "stream",
     "text": [
      "[[57 42]\n",
      " [57 77]]\n",
      "[[43 26]\n",
      " [11 53]]\n",
      "[[350 272]\n",
      " [782 780]]\n",
      "[[7.14285714 4.25      ]\n",
      " [1.47826087 5.41666667]]\n"
     ]
    }
   ],
   "source": [
    "# Solution\n",
    "added_matrix = m1+m2\n",
    "subtracted_matrix = m1-m2\n",
    "multiplied_matrix = m1*m2\n",
    "divided_matrix = m1/m2\n",
    "\n",
    "print(added_matrix)\n",
    "print(subtracted_matrix)\n",
    "print(multiplied_matrix)\n",
    "print(divided_matrix)\n",
    "\n"
   ]
  },
  {
   "cell_type": "markdown",
   "metadata": {},
   "source": [
    "#### 17. Add the m1 with m3 by removing the first row and last column of m3"
   ]
  },
  {
   "cell_type": "code",
   "execution_count": 21,
   "metadata": {},
   "outputs": [
    {
     "name": "stdout",
     "output_type": "stream",
     "text": [
      "Added matrix after removing first row and last column in m3 : \n",
      "[[56 88]\n",
      " [42 70]]\n"
     ]
    }
   ],
   "source": [
    "# Solution\n",
    "added_matrix = m1+m3[1:,:2]\n",
    "m3 = m3[1:,:2]\n",
    "print(\"Added matrix after removing first row and last column in m3 : \")\n",
    "print(added_matrix)\n",
    "\n"
   ]
  },
  {
   "cell_type": "markdown",
   "metadata": {},
   "source": [
    "#### 18. Form the matrix m4 by concatenating (as a new row) the vector [me1, me2] with the matrix m1, where me1 and me2 are the mean values of each column on m1."
   ]
  },
  {
   "cell_type": "code",
   "execution_count": 22,
   "metadata": {},
   "outputs": [
    {
     "name": "stdout",
     "output_type": "stream",
     "text": [
      "[42.]\n",
      "[49.5]\n",
      "(2, 1)\n",
      "[[42. ]\n",
      " [49.5]]\n"
     ]
    }
   ],
   "source": [
    "# Solution\n",
    "#print(m1)\n",
    "me1 = m1[:,0:1].mean(axis=0)\n",
    "me2 = m1[:,1:].mean(axis=0)\n",
    "print(me1)\n",
    "print(me2)\n",
    "m4 = np.concatenate((me1,me2))\n",
    "m4 = m4.reshape(2,1)\n",
    "print(m4.shape)\n",
    "print(m4)\n",
    "\n",
    "\n",
    "\n"
   ]
  },
  {
   "cell_type": "markdown",
   "metadata": {},
   "source": [
    "#### 19. Perform the matrix multiplication between m3 and m4"
   ]
  },
  {
   "cell_type": "code",
   "execution_count": 23,
   "metadata": {},
   "outputs": [
    {
     "data": {
      "text/plain": [
       "array([[ 252. , 2268. ],\n",
       "       [ 396. ,  247.5]])"
      ]
     },
     "execution_count": 23,
     "metadata": {},
     "output_type": "execute_result"
    }
   ],
   "source": [
    "# Solution\n",
    "m3*m4\n",
    "\n"
   ]
  },
  {
   "cell_type": "markdown",
   "metadata": {},
   "source": [
    "#### 20. Compute the maximum and minimum value of mean, variance, standard deviation for each row of matrix created in question number 8."
   ]
  },
  {
   "cell_type": "code",
   "execution_count": 11,
   "metadata": {},
   "outputs": [
    {
     "name": "stdout",
     "output_type": "stream",
     "text": [
      "Maximun Mean\n",
      "32.6\n",
      "Minimum Mean\n",
      "11.2\n",
      " \n",
      "Maximum Varience\n",
      "820.1600000000001\n",
      "Minimum Varience\n",
      "39.760000000000005\n",
      " \n",
      "Maximum Standard Deviation\n",
      "28.63843571147\n",
      "Minimum Standard Deviation\n",
      "6.305553108173779\n"
     ]
    }
   ],
   "source": [
    "# Solution\n",
    "import numpy as np\n",
    "matrix_Array_one = np.array([[9,25,50,34,45],[3,34,34,65,2],[5,7,3,76,3],[7,8,6,54,6],[23,12,8,5,8]])\n",
    "#print(matrix_Array_one)\n",
    "mean_one = matrix_Array_one.sum(axis=1)\n",
    "mean_final = (mean_one/5)\n",
    "#print(mean_final)\n",
    "print(\"Maximun Mean\")\n",
    "print(mean_final.max())\n",
    "print(\"Minimum Mean\")\n",
    "print(mean_final.min())\n",
    "print(\" \")\n",
    "var_one = matrix_Array_one.var(axis=1)\n",
    "#print(var_one)\n",
    "var_one_max = var_one.max()\n",
    "var_one_min = var_one.min()\n",
    "print(\"Maximum Varience\")\n",
    "print(var_one_max)\n",
    "print(\"Minimum Varience\")\n",
    "print(var_one_min)\n",
    "print(\" \")\n",
    "std_one = np.std(matrix_Array_one,axis=1)\n",
    "std_one_max = std_one.max()\n",
    "std_one_min = std_one.min()\n",
    "print(\"Maximum Standard Deviation\")\n",
    "print(std_one_max)\n",
    "print(\"Minimum Standard Deviation\")\n",
    "print(std_one_min)\n",
    "\n",
    "\n",
    "\n"
   ]
  },
  {
   "cell_type": "markdown",
   "metadata": {},
   "source": [
    "#### 21. Compute the average and strike rate for each player and sort it decending way (seperately for avg and strike rate)\n",
    "<img src = 'crick1.png'>"
   ]
  },
  {
   "cell_type": "code",
   "execution_count": 43,
   "metadata": {},
   "outputs": [
    {
     "name": "stdout",
     "output_type": "stream",
     "text": [
      "Decending order of Runs Average\n",
      "[53.5  51.5  47.25 29.   13.25]\n",
      "\n",
      "Decending order of Strike Rate\n",
      "[161.11111111 101.42180095  98.4375      94.93087558  49.53271028]\n"
     ]
    }
   ],
   "source": [
    "# Solution\n",
    "runs_matrix = np.array([[54,60,10,65],[102,2,78,32],[3,110,1,92],[56,6,12,42],[12,8,22,11]])\n",
    "balls_faced_matrix = np.array([[50,42,22,78],[95,8,65,43],[9,100,7,101],[27,3,11,31],[24,20,36,27]])\n",
    "run_matrix_avg = runs_matrix.mean(axis=1)\n",
    "run_matrix_asc = np.sort(run_matrix_avg)\n",
    "print(\"Decending order of Runs Average\")\n",
    "print(run_matrix_asc[::-1])\n",
    "print(\"\")\n",
    "strike_rate_one = (runs_matrix.sum(axis=1)/balls_faced_matrix.sum(axis=1))*100\n",
    "strike_rate_vartwo = np.sort(strike_rate_one)\n",
    "strike_rate_desc = strike_rate_vartwo[::-1]\n",
    "print(\"Decending order of Strike Rate\")\n",
    "print(strike_rate_desc)\n",
    "\n",
    "\n",
    "\n",
    "\n"
   ]
  },
  {
   "cell_type": "code",
   "execution_count": null,
   "metadata": {},
   "outputs": [],
   "source": []
  },
  {
   "cell_type": "markdown",
   "metadata": {},
   "source": [
    "#### 22. The students mark was recorded in a numpy array: marks = np.array([65,84,47,56,89,98,48,77,80,39]).  Cutoff for pass is 50 marks. Write the logic to print the number of students passed and failed. "
   ]
  },
  {
   "cell_type": "code",
   "execution_count": 49,
   "metadata": {},
   "outputs": [
    {
     "name": "stdout",
     "output_type": "stream",
     "text": [
      "Number of Students Passed\n",
      "7\n",
      "\n",
      "Number of Students Failed\n",
      "3\n"
     ]
    }
   ],
   "source": [
    "# Solution\n",
    "marks = np.array([65,84,47,56,89,98,48,77,80,39])\n",
    "print(\"Number of Students Passed\")\n",
    "print(len(marks[marks>=50]))\n",
    "print(\"\")\n",
    "print(\"Number of Students Failed\")\n",
    "print(len(marks[marks<50]))\n",
    "\n",
    "\n"
   ]
  },
  {
   "cell_type": "markdown",
   "metadata": {},
   "source": [
    "#### 23. The class incharge decided to give a mercy mark of 5 for those who scored between 45 and 49. Also the bonus of 5 marks awarded to the students who scored more than 80. Print all the student marks and compute the increase in the pass percentage of class. Any score more than 100 must be recorded as only 100."
   ]
  },
  {
   "cell_type": "code",
   "execution_count": 76,
   "metadata": {},
   "outputs": [
    {
     "name": "stdout",
     "output_type": "stream",
     "text": [
      "Students marks after grace points : \n",
      "[ 65  89  52  56  94 100  53  77  80  39]\n",
      "Before Grace Marks Pass Percentage : 68.30000000000001 %\n",
      "After Grace Marks Pass Percentage :  70.5 %\n",
      "The pass percentage is improved by :  2.1999999999999886 %\n"
     ]
    }
   ],
   "source": [
    "# Solution\n",
    "marks = np.array([65,84,47,56,89,98,48,77,80,39])\n",
    "marks_one = np.array([65,84,47,56,89,98,48,77,80,39])\n",
    "marks_grace = np.where((marks>45) & (marks<49))\n",
    "marks_one[marks_grace] = marks[marks_grace]+5\n",
    "#print(marks)\n",
    "#print(marks_one)\n",
    "marks_grace_two = np.where(marks_one>80)\n",
    "marks_one[marks_grace_two] = marks_one[marks_grace_two]+5\n",
    "#print(marks_one)\n",
    "marks_hund = np.where(marks_one>100)\n",
    "marks_one[marks_hund] = 100\n",
    "print(\"Students marks after grace points : \")\n",
    "print(marks_one)\n",
    "original_percentage = (marks.sum(axis=0)/1000)*100\n",
    "second_percentage = (marks_one.sum(axis=0)/1000)*100\n",
    "print(\"Before Grace Marks Pass Percentage :\",original_percentage,\"%\")\n",
    "print(\"After Grace Marks Pass Percentage : \",second_percentage,\"%\")\n",
    "print(\"The pass percentage is improved by : \",second_percentage - original_percentage,\"%\")"
   ]
  },
  {
   "cell_type": "markdown",
   "metadata": {},
   "source": [
    "#### 24. Print the time taken for performing the following operation using list and numpy array\n",
    "####       (x(i)^2 +8) / y(i),   where x and y are real integers from 1 to 60000"
   ]
  },
  {
   "cell_type": "code",
   "execution_count": 16,
   "metadata": {},
   "outputs": [
    {
     "name": "stdout",
     "output_type": "stream",
     "text": [
      "Total Time Taken 0.04192948341369629\n"
     ]
    }
   ],
   "source": [
    "# Solution\n",
    "import time\n",
    "start = time.time()\n",
    "for i in range(60000):\n",
    "    x = i\n",
    "    y=i+1\n",
    "    abc = ((x*(i**2))+8)/y*i\n",
    "    #print(abc)\n",
    "    #print(x)\n",
    "    #print(y)\n",
    "end = time.time()\n",
    "print(\"Total Time Taken\",end-start)\n",
    "\n"
   ]
  },
  {
   "cell_type": "markdown",
   "metadata": {},
   "source": [
    "#### 25. Create a Github account and upload your solution with the short write-up on Numpy"
   ]
  },
  {
   "cell_type": "code",
   "execution_count": null,
   "metadata": {},
   "outputs": [],
   "source": [
    "# Solution\n",
    "\n",
    "#Numpy is a package which can be used to create and work with one dimensional and two dimensional arrays.\n",
    "#There are a few syntax and pre defined matehmatical functions which can be used instead of general python function, this could reduce the number of lines of codes while comparing with usual python functions.\n",
    "# There are a few disadvantages in numpy where at times we have to change the shape of the matrix at times to make it combine and work with other matrix and functions which could be a tedious process, but while comparing with raw python using numpy is far better in case of predefined functions.\n",
    "\n",
    "\n"
   ]
  }
 ],
 "metadata": {
  "kernelspec": {
   "display_name": "Python 3",
   "language": "python",
   "name": "python3"
  },
  "language_info": {
   "codemirror_mode": {
    "name": "ipython",
    "version": 3
   },
   "file_extension": ".py",
   "mimetype": "text/x-python",
   "name": "python",
   "nbconvert_exporter": "python",
   "pygments_lexer": "ipython3",
   "version": "3.8.8"
  }
 },
 "nbformat": 4,
 "nbformat_minor": 2
}
